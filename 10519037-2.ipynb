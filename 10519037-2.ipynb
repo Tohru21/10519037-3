{
 "cells": [
  {
   "cell_type": "code",
   "execution_count": 1,
   "id": "bdf3b619-884b-4b50-9b20-d8e417a2674c",
   "metadata": {},
   "outputs": [
    {
     "name": "stdout",
     "output_type": "stream",
     "text": [
      "anizahra\n"
     ]
    }
   ],
   "source": [
    "x='ani'\n",
    "y='zahra'\n",
    "z=x+y\n",
    "print(z)"
   ]
  },
  {
   "cell_type": "code",
   "execution_count": 2,
   "id": "9d988e1b-0568-4882-bb0c-d3545e0e18b5",
   "metadata": {},
   "outputs": [
    {
     "name": "stdout",
     "output_type": "stream",
     "text": [
      "ayahibu\n",
      "ayahibu\n",
      "ayahibu\n",
      "ayahibu\n",
      "ayahibu\n",
      "ayahibu\n",
      "ayahibu\n",
      "ayahibu\n",
      "ayahibu\n",
      "ayahibu\n"
     ]
    }
   ],
   "source": [
    "for i in range(10):\n",
    "  print('ayahibu') "
   ]
  },
  {
   "cell_type": "code",
   "execution_count": 11,
   "id": "514e76aa-db21-414a-bfa9-345107302c3c",
   "metadata": {},
   "outputs": [
    {
     "name": "stdout",
     "output_type": "stream",
     "text": [
      "ok\n"
     ]
    }
   ],
   "source": [
    "x=5\n",
    "y=6\n",
    "if x < y :\n",
    "    print('ok')\n",
    "else:\n",
    "    print('not-ok')"
   ]
  },
  {
   "cell_type": "code",
   "execution_count": 64,
   "id": "0f0d8129-40c3-405d-9172-89c5e198e04f",
   "metadata": {},
   "outputs": [
    {
     "name": "stdout",
     "output_type": "stream",
     "text": [
      "A\n"
     ]
    }
   ],
   "source": [
    "x=100\n",
    "if x>80 :\n",
    "    print('A')\n",
    "elif x>70 :\n",
    "    print('B')\n",
    "elif x>60 :\n",
    "    print('C')\n",
    "elif x>50 :\n",
    "    print('D')\n",
    "elif x>40 :\n",
    "    print('remed')\n",
    "else :\n",
    "    print('remed goblog')\n",
    "    "
   ]
  },
  {
   "cell_type": "code",
   "execution_count": 71,
   "id": "5a1a6531-32da-4d75-b293-bde1d81ab5e1",
   "metadata": {},
   "outputs": [
    {
     "name": "stdout",
     "output_type": "stream",
     "text": [
      "Anggur\n",
      "Jeruk\n",
      "Pisang\n",
      "Anggur\n",
      "Jeruk\n",
      "Pisang\n"
     ]
    }
   ],
   "source": [
    "dlist=['Anggur','Jeruk','Pisang']\n",
    "print(dlist[0])\n",
    "print(dlist[1])\n",
    "print(dlist[2])\n",
    "for x in dlist:\n",
    "    print(x)"
   ]
  },
  {
   "cell_type": "code",
   "execution_count": null,
   "id": "ccaba256-1958-4d62-9197-0a2b6ff5b687",
   "metadata": {},
   "outputs": [],
   "source": []
  }
 ],
 "metadata": {
  "kernelspec": {
   "display_name": "Python 3 (ipykernel)",
   "language": "python",
   "name": "python3"
  },
  "language_info": {
   "codemirror_mode": {
    "name": "ipython",
    "version": 3
   },
   "file_extension": ".py",
   "mimetype": "text/x-python",
   "name": "python",
   "nbconvert_exporter": "python",
   "pygments_lexer": "ipython3",
   "version": "3.9.12"
  }
 },
 "nbformat": 4,
 "nbformat_minor": 5
}
