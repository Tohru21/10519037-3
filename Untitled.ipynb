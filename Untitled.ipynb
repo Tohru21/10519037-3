{
 "cells": [
  {
   "cell_type": "code",
   "execution_count": null,
   "id": "66b9519f-bdd5-441e-9bba-16e871788cab",
   "metadata": {},
   "outputs": [],
   "source": [
    "x=int(5)\n",
    "y=int(6)\n",
    "z=x+y\n",
    "print(z)\n"
   ]
  },
  {
   "cell_type": "code",
   "execution_count": null,
   "id": "d639d0a8-b30d-45f8-a652-37673fc23c08",
   "metadata": {},
   "outputs": [],
   "source": [
    "x='ani'\n",
    "y='zahra'\n",
    "z=x+y\n",
    "print(z)"
   ]
  },
  {
   "cell_type": "code",
   "execution_count": null,
   "id": "3157543c-b014-4c68-94fa-0cd347867b9f",
   "metadata": {},
   "outputs": [],
   "source": [
    "for i in range(10):\n",
    "  print('ayahibu') "
   ]
  },
  {
   "cell_type": "code",
   "execution_count": null,
   "id": "164e6c47-13b5-48d7-8696-2ab5c6c54402",
   "metadata": {},
   "outputs": [],
   "source": [
    "for i in range(10):\n",
    "  print('ayahibu') "
   ]
  },
  {
   "cell_type": "code",
   "execution_count": null,
   "id": "64d21cee-9c7e-4b3f-9220-117cddcd8023",
   "metadata": {},
   "outputs": [],
   "source": []
  },
  {
   "cell_type": "code",
   "execution_count": null,
   "id": "c9d1aaaa-9a27-463c-b546-805156fc5a32",
   "metadata": {},
   "outputs": [],
   "source": []
  },
  {
   "cell_type": "code",
   "execution_count": null,
   "id": "0427b994-5273-4ebd-9b65-3b71ca82cdcc",
   "metadata": {},
   "outputs": [],
   "source": []
  },
  {
   "cell_type": "code",
   "execution_count": null,
   "id": "bd698eeb-2505-4e00-9438-60a5d5f2b75a",
   "metadata": {},
   "outputs": [],
   "source": []
  }
 ],
 "metadata": {
  "kernelspec": {
   "display_name": "Python 3 (ipykernel)",
   "language": "python",
   "name": "python3"
  },
  "language_info": {
   "codemirror_mode": {
    "name": "ipython",
    "version": 3
   },
   "file_extension": ".py",
   "mimetype": "text/x-python",
   "name": "python",
   "nbconvert_exporter": "python",
   "pygments_lexer": "ipython3",
   "version": "3.9.12"
  }
 },
 "nbformat": 4,
 "nbformat_minor": 5
}
